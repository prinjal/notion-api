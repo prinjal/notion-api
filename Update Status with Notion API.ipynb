{
 "cells": [
  {
   "cell_type": "code",
   "execution_count": 2,
   "id": "5e71eceb",
   "metadata": {},
   "outputs": [],
   "source": [
    "import os, json\n",
    "from datetime import datetime\n",
    "from notion_client import Client, AsyncClient\n",
    "from pprint import pprint"
   ]
  },
  {
   "cell_type": "code",
   "execution_count": 3,
   "id": "5bfaeffb",
   "metadata": {},
   "outputs": [],
   "source": [
    "notionIntegration=\"secret_HORF73Hvw3Cg7kAH9ZvRGY6FaJ0GulrsuZa0WvJ2ObN\"\n",
    "notion = Client(auth=notionIntegration)"
   ]
  },
  {
   "cell_type": "code",
   "execution_count": 64,
   "id": "f4be5f25",
   "metadata": {},
   "outputs": [
    {
     "name": "stdout",
     "output_type": "stream",
     "text": [
      "{'has_more': False,\n",
      " 'next_cursor': None,\n",
      " 'object': 'list',\n",
      " 'results': [{'avatar_url': None,\n",
      "              'id': '05d0ee69-2290-4d4d-b357-ae576397a133',\n",
      "              'name': 'Prinjal',\n",
      "              'object': 'user',\n",
      "              'person': {'email': 'dave.pri@northeastern.edu'},\n",
      "              'type': 'person'},\n",
      "             {'avatar_url': None,\n",
      "              'bot': {'owner': {'type': 'workspace', 'workspace': True},\n",
      "                      'workspace_name': \"Prinjal's Notion\"},\n",
      "              'id': '685c4c01-916c-40ef-a9cf-4e80887ad68c',\n",
      "              'name': 'Prinjal Dave',\n",
      "              'object': 'user',\n",
      "              'type': 'bot'}],\n",
      " 'type': 'user',\n",
      " 'user': {}}\n"
     ]
    }
   ],
   "source": [
    "#List Users\n",
    "list_users_response = notion.users.list()\n",
    "pprint(list_users_response)"
   ]
  },
  {
   "cell_type": "code",
   "execution_count": 17,
   "id": "89e14205",
   "metadata": {},
   "outputs": [
    {
     "name": "stdout",
     "output_type": "stream",
     "text": [
      "{'date': {'end': None, 'start': '2022-12-30', 'time_zone': None},\n",
      " 'id': 'z.OF',\n",
      " 'type': 'date'}\n",
      "{'date': None, 'id': 'z.OF', 'type': 'date'}\n",
      "{'date': {'end': None, 'start': '2022-12-23', 'time_zone': None},\n",
      " 'id': 'z.OF',\n",
      " 'type': 'date'}\n",
      "{'date': {'end': None, 'start': '2022-12-23', 'time_zone': None},\n",
      " 'id': 'z.OF',\n",
      " 'type': 'date'}\n",
      "{'date': {'end': None, 'start': '2023-01-30', 'time_zone': None},\n",
      " 'id': 'z.OF',\n",
      " 'type': 'date'}\n",
      "{'date': {'end': None, 'start': '2023-01-10', 'time_zone': None},\n",
      " 'id': 'z.OF',\n",
      " 'type': 'date'}\n",
      "{'date': {'end': None, 'start': '2022-12-24', 'time_zone': None},\n",
      " 'id': 'z.OF',\n",
      " 'type': 'date'}\n",
      "{'date': {'end': None, 'start': '2022-12-25', 'time_zone': None},\n",
      " 'id': 'z.OF',\n",
      " 'type': 'date'}\n",
      "{'date': None, 'id': 'z.OF', 'type': 'date'}\n"
     ]
    }
   ],
   "source": [
    "for x in notion.search()['results']:\n",
    "    if(x[\"object\"]==\"page\"):\n",
    "        pprint(x[\"properties\"][\"Due Date\"])"
   ]
  },
  {
   "cell_type": "code",
   "execution_count": 81,
   "id": "8696c68f",
   "metadata": {
    "scrolled": true
   },
   "outputs": [
    {
     "name": "stdout",
     "output_type": "stream",
     "text": [
      "Improve note taking and start writing journals in notion\n",
      "Next Up\n",
      "2022-12-23 00:00:00\n"
     ]
    },
    {
     "name": "stderr",
     "output_type": "stream",
     "text": [
      "/var/folders/fd/2d7wsnks5p1gpcn8gpf0fv400000gn/T/ipykernel_25263/3181485927.py:28: RuntimeWarning: coroutine 'updatePage' was never awaited\n",
      "  res=updatePage(pageId=pageId,statusName=\"In Progress\",dueDateStart=start,dueDateEnd=end)\n",
      "RuntimeWarning: Enable tracemalloc to get the object allocation traceback\n"
     ]
    },
    {
     "name": "stdout",
     "output_type": "stream",
     "text": [
      "In Progress\n",
      "end\n",
      "In Progress\n"
     ]
    }
   ],
   "source": [
    "for x in notion.search()['results']:\n",
    "    if(x[\"object\"]==\"page\"):\n",
    "        statusName=x[\"properties\"][\"Status\"][\"status\"][\"name\"]\n",
    "        dueDateObj=x[\"properties\"][\"Due Date\"][\"date\"]\n",
    "        name=x[\"properties\"][\"Name\"][\"title\"][0][\"text\"][\"content\"]\n",
    "        pageId=x[\"id\"]\n",
    "        if(dueDateObj!=None and name==\"Improve note taking and start writing journals in notion\"):\n",
    "            start=dueDateObj[\"start\"]\n",
    "            end=dueDateObj[\"end\"]\n",
    "            if(start!=None):\n",
    "                start=datetime.strptime(dueDateObj[\"start\"],\"%Y-%m-%d\")\n",
    "            else:\n",
    "                start=None\n",
    "            if(end!=None):\n",
    "                end=datetime.strptime(dueDateObj[\"end\"],\"%Y-%m-%d\")\n",
    "            else:\n",
    "                end=None\n",
    "            currentDate=datetime.today()\n",
    "            \n",
    "            print(name)\n",
    "            print(statusName)\n",
    "            print(start)\n",
    "            if(start>currentDate):\n",
    "                res=updatePage(pageId=pageId,statusName=\"Next Up\",dueDateStart=start,dueDateEnd=end)\n",
    "                print(res[\"properties\"][\"Status\"][\"status\"][\"name\"])\n",
    "            elif(end==None):\n",
    "                if(start<=currentDate and (statusName==\"Next Up\")):\n",
    "                    res=updatePage(pageId=pageId,statusName=\"In Progress\",dueDateStart=start,dueDateEnd=end)\n",
    "                    print(res[\"properties\"][\"Status\"][\"status\"][\"name\"])\n",
    "            elif(end!=None):\n",
    "                if(start<=currentDate and end<currentDate and (statusName==\"In Progress\" or statusName==\"Next Up\")):\n",
    "                    res=updatePage(pageId=pageId,statusName=\"Reschedule\",dueDateStart=start,dueDateEnd=end)\n",
    "                    print(res[\"properties\"][\"Status\"][\"status\"][\"name\"])        \n",
    "            print('end')\n",
    "\n",
    "            \n",
    "for x in notion.search()['results']:\n",
    "    if(x[\"object\"]==\"page\"):\n",
    "        statusName=x[\"properties\"][\"Status\"][\"status\"][\"name\"]\n",
    "        dueDateObj=x[\"properties\"][\"Due Date\"][\"date\"]\n",
    "        name=x[\"properties\"][\"Name\"][\"title\"][0][\"text\"][\"content\"]\n",
    "        if(dueDateObj!=None and name==\"Improve note taking and start writing journals in notion\"):\n",
    "            print(statusName)"
   ]
  },
  {
   "cell_type": "code",
   "execution_count": 80,
   "id": "f81cb83a",
   "metadata": {},
   "outputs": [],
   "source": [
    "def updatePage(pageId,statusName, dueDateStart, dueDateEnd):\n",
    "    if(dueDateStart!=None):\n",
    "        dueDateStart=datetime.strftime(dueDateStart,\"%Y-%m-%d\")\n",
    "    if(dueDateEnd!=None):\n",
    "        dueDateEnd=datetime.strftime(dueDateEnd,\"%Y-%m-%d\")\n",
    "    res=notion.pages.update(page_id=pageId,\n",
    "                   properties={\"Status\":{\n",
    "                       \"status\":{\n",
    "                           \"name\":statusName\n",
    "                       }\n",
    "                   },\"Due Date\":{\n",
    "                       \"date\":{\n",
    "                           \"start\":dueDateStart,\n",
    "                           \"end\":dueDateEnd}\n",
    "                   }})\n",
    "    return res"
   ]
  },
  {
   "cell_type": "code",
   "execution_count": 46,
   "id": "afbc1835",
   "metadata": {},
   "outputs": [
    {
     "data": {
      "text/plain": [
       "True"
      ]
     },
     "execution_count": 46,
     "metadata": {},
     "output_type": "execute_result"
    }
   ],
   "source": [
    "currentDate=datetime.today()\n",
    "start=datetime.strptime(\"2022-12-24\",\"%Y-%m-%d\")\n",
    "start>currentDate"
   ]
  }
 ],
 "metadata": {
  "kernelspec": {
   "display_name": "base",
   "language": "python",
   "name": "python3"
  },
  "language_info": {
   "codemirror_mode": {
    "name": "ipython",
    "version": 3
   },
   "file_extension": ".py",
   "mimetype": "text/x-python",
   "name": "python",
   "nbconvert_exporter": "python",
   "pygments_lexer": "ipython3",
   "version": "3.9.7"
  },
  "vscode": {
   "interpreter": {
    "hash": "098539fe6d188947a5ac7414d4ad639d4eca89b6d62172c0e62d27ca65bba2c6"
   }
  }
 },
 "nbformat": 4,
 "nbformat_minor": 5
}
