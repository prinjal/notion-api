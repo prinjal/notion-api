{
 "cells": [
  {
   "cell_type": "code",
   "execution_count": 14,
   "id": "5e71eceb",
   "metadata": {},
   "outputs": [],
   "source": [
    "import os, json\n",
    "from datetime import datetime,date\n",
    "from notion_client import Client, AsyncClient\n",
    "from pprint import pprint"
   ]
  },
  {
   "cell_type": "code",
   "execution_count": 3,
   "id": "5bfaeffb",
   "metadata": {},
   "outputs": [],
   "source": [
    "notionIntegration=\"secret_HORF73Hvw3Cg7kAH9ZvRGY6FaJ0GulrsuZa0WvJ2ObN\"\n",
    "notion = Client(auth=notionIntegration)"
   ]
  },
  {
   "cell_type": "code",
   "execution_count": 4,
   "id": "f4be5f25",
   "metadata": {},
   "outputs": [
    {
     "name": "stdout",
     "output_type": "stream",
     "text": [
      "{'has_more': False,\n",
      " 'next_cursor': None,\n",
      " 'object': 'list',\n",
      " 'results': [{'avatar_url': None,\n",
      "              'id': '05d0ee69-2290-4d4d-b357-ae576397a133',\n",
      "              'name': 'Prinjal',\n",
      "              'object': 'user',\n",
      "              'person': {'email': 'dave.pri@northeastern.edu'},\n",
      "              'type': 'person'},\n",
      "             {'avatar_url': None,\n",
      "              'bot': {'owner': {'type': 'workspace', 'workspace': True},\n",
      "                      'workspace_name': \"Prinjal's Notion\"},\n",
      "              'id': '685c4c01-916c-40ef-a9cf-4e80887ad68c',\n",
      "              'name': 'Prinjal Dave',\n",
      "              'object': 'user',\n",
      "              'type': 'bot'}],\n",
      " 'type': 'user',\n",
      " 'user': {}}\n"
     ]
    }
   ],
   "source": [
    "#List Users\n",
    "list_users_response = notion.users.list()\n",
    "pprint(list_users_response)"
   ]
  },
  {
   "cell_type": "code",
   "execution_count": 5,
   "id": "89e14205",
   "metadata": {},
   "outputs": [
    {
     "name": "stdout",
     "output_type": "stream",
     "text": [
      "{'date': {'end': '2022-12-26', 'start': '2022-12-23', 'time_zone': None},\n",
      " 'id': 'z.OF',\n",
      " 'type': 'date'}\n",
      "{'date': {'end': '2022-12-26', 'start': '2022-12-21', 'time_zone': None},\n",
      " 'id': 'z.OF',\n",
      " 'type': 'date'}\n",
      "{'date': {'end': None, 'start': '2023-01-10', 'time_zone': None},\n",
      " 'id': 'z.OF',\n",
      " 'type': 'date'}\n",
      "{'date': {'end': None, 'start': '2022-12-25', 'time_zone': None},\n",
      " 'id': 'z.OF',\n",
      " 'type': 'date'}\n",
      "{'date': {'end': None, 'start': '2022-12-24', 'time_zone': None},\n",
      " 'id': 'z.OF',\n",
      " 'type': 'date'}\n",
      "{'date': {'end': '2022-12-21', 'start': '2022-12-18', 'time_zone': None},\n",
      " 'id': 'z.OF',\n",
      " 'type': 'date'}\n",
      "{'date': {'end': '2022-12-26', 'start': '2022-12-23', 'time_zone': None},\n",
      " 'id': 'z.OF',\n",
      " 'type': 'date'}\n",
      "{'date': {'end': '2022-12-26', 'start': '2022-12-23', 'time_zone': None},\n",
      " 'id': 'z.OF',\n",
      " 'type': 'date'}\n",
      "{'date': None, 'id': 'z.OF', 'type': 'date'}\n",
      "{'date': None, 'id': 'z.OF', 'type': 'date'}\n"
     ]
    }
   ],
   "source": [
    "for x in notion.search()['results']:\n",
    "    if(x[\"object\"]==\"page\"):\n",
    "        pprint(x[\"properties\"][\"Due Date\"])"
   ]
  },
  {
   "cell_type": "code",
   "execution_count": 18,
   "id": "8696c68f",
   "metadata": {
    "scrolled": true
   },
   "outputs": [],
   "source": [
    "for x in notion.search()['results']:\n",
    "    if(x[\"object\"] == \"page\"):\n",
    "        statusName = x[\"properties\"][\"Status\"][\"status\"][\"name\"]\n",
    "        dueDateObj = x[\"properties\"][\"Due Date\"][\"date\"]\n",
    "        name = x[\"properties\"][\"Name\"][\"title\"][0][\"text\"][\"content\"]\n",
    "        pageId = x[\"id\"]\n",
    "        if(dueDateObj != None):\n",
    "            start = dueDateObj[\"start\"]\n",
    "            end = dueDateObj[\"end\"]\n",
    "            if(start != None):\n",
    "                start = datetime.strptime(dueDateObj[\"start\"], \"%Y-%m-%d\").date()\n",
    "            else:\n",
    "                start = None\n",
    "            if(end != None):\n",
    "                end = datetime.strptime(dueDateObj[\"end\"], \"%Y-%m-%d\").date()\n",
    "            else:\n",
    "                end = None\n",
    "            currentDate = date.today()\n",
    "\n",
    "            if(end == None):\n",
    "                    if(start < currentDate and (statusName == \"Next Up\" or statusName == \"In Progress\")):\n",
    "                        res = updatePageHelper(\n",
    "                            pageId=pageId, statusName=\"Reschedule\", dueDateStart=start, dueDateEnd=end)\n",
    "                    elif(start >= currentDate and (statusName == \"Next Up\")):\n",
    "                        res = updatePageHelper(\n",
    "                            pageId=pageId, statusName=\"In Progress\", dueDateStart=start, dueDateEnd=end)\n",
    "            elif(end != None):\n",
    "                if(start <= currentDate and end <currentDate and (statusName==\"In Progress\" or statusName==\"Next Up\")):\n",
    "                    res = updatePageHelper(pageId=pageId, statusName=\"Reschedule\", dueDateStart=start,dueDateEnd=end)\n",
    "                elif(start <= currentDate and end >currentDate and (statusName==\"Next Up\")):\n",
    "                    res = updatePageHelper(pageId=pageId, statusName=\"In Progress\", dueDateStart=start,dueDateEnd=end)\n",
    "                elif(start>currentDate and (statusName==\"In Progress\")):\n",
    "                    res = updatePageHelper(pageId=pageId, statusName=\"Next Up\", dueDateStart=start,dueDateEnd=end)\n",
    "\n"
   ]
  },
  {
   "cell_type": "code",
   "execution_count": 10,
   "id": "f81cb83a",
   "metadata": {},
   "outputs": [],
   "source": [
    "def updatePageHelper(pageId,statusName, dueDateStart, dueDateEnd):\n",
    "    if(dueDateStart!=None):\n",
    "        dueDateStart=datetime.strftime(dueDateStart,\"%Y-%m-%d\")\n",
    "    if(dueDateEnd!=None):\n",
    "        dueDateEnd=datetime.strftime(dueDateEnd,\"%Y-%m-%d\")\n",
    "    res=notion.pages.update(page_id=pageId,\n",
    "                   properties={\"Status\":{\n",
    "                       \"status\":{\n",
    "                           \"name\":statusName\n",
    "                       }\n",
    "                   },\"Due Date\":{\n",
    "                       \"date\":{\n",
    "                           \"start\":dueDateStart,\n",
    "                           \"end\":dueDateEnd}\n",
    "                   }})\n",
    "    return res"
   ]
  }
 ],
 "metadata": {
  "kernelspec": {
   "display_name": "Python 3",
   "language": "python",
   "name": "python3"
  },
  "language_info": {
   "codemirror_mode": {
    "name": "ipython",
    "version": 3
   },
   "file_extension": ".py",
   "mimetype": "text/x-python",
   "name": "python",
   "nbconvert_exporter": "python",
   "pygments_lexer": "ipython3",
   "version": "3.11.1"
  },
  "vscode": {
   "interpreter": {
    "hash": "aee8b7b246df8f9039afb4144a1f6fd8d2ca17a180786b69acc140d282b71a49"
   }
  }
 },
 "nbformat": 4,
 "nbformat_minor": 5
}
